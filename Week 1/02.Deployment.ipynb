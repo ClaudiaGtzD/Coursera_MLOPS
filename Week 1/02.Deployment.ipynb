{
 "cells": [
  {
   "cell_type": "markdown",
   "id": "7a26eb25",
   "metadata": {},
   "source": [
    "# Deployment\n",
    "\n",
    "## Key challenges\n",
    "\n",
    "**Concept drift and Data drift**\n",
    "\n",
    "*Speech recognition example*\n",
    "\n",
    "- Training set:\n",
    "    - Purchased data, historica user data with transcripts\n",
    "- Test set:\n",
    "    - Data from a few months ago.\n",
    "- How has the data changed?\n",
    "    - Language change with the time.\n",
    "    - New generations of speakers have different words\n",
    "    - Evaluate if there is a gradual change (slowly)\n",
    "    - Evaluate if is suddenly shock (like pandemic)\n",
    "\n",
    "**Data Drift:** Indicates if input distribution changes\n",
    "**Concept drift:**  Refers to if the desired mapping (X to Y) changes over time\n",
    "\n",
    "When you deploy a machine learning system, one of the most important tasks, will often be to make sure you can detect and manage any changes.\n",
    "\n",
    "**Software engineering issues**\n",
    "\n",
    "How to implement the Prediction service, given by receive input x and return prediction y.\n",
    "\n",
    "Checklist of questions:\n",
    "- Realtime or Batch\n",
    "    - *Realtime*: Speech recognition, you talk to your cellphone and you need to receive the response in that moment. Need computational fast software.\n",
    "    - *Batch*: Hospitals, midnights processes of large duration than returns predictions in the morning. Need computational to proccess big data software.\n",
    "- Cloud vs. Edge/Browser\n",
    "    - *Cloud*: having the compute resources of the cloud allows for more accurate speech recognition.\n",
    "    - *Edge*: Speech recognition at the cars actually run at the edge or speech recognitions in cellphones working even if Wifi is turn off. Factories use for visual inspection systems with edge because low signal of internet.\n",
    "    - *Web browser*: tools for build your systems directly on websites\n",
    "- Compute resources (CPU/GPU/memory)\n",
    "    - Training NN with powerfull simulated GPUs is unusefull because the reality is difficult implement that powerfull GPU en real life deployments.\n",
    "    - Be careful with the deploy computational resources yo have, and then work with it.\n",
    "- Latency, throughput (QPS, Queries per second)\n",
    "    - *Latency*: In speech recognition, you need to return prediction in aboout 500ms (reach).\n",
    "    - *Throughput*: How many queries per second do you need to handle given your compute resources, maybe given a certain number of Cloud Service.\n",
    "- Logging:\n",
    "    - When building your system is useful log as much the data  as possible for analysys an revew as well as to provide more data for retraining your learning algorithm in the future.\n",
    "- Security and privacy\n",
    "    - prepared the data based on how sensitive the data is and base on regulations.\n",
    "\n",
    "The first deploying means you be only about halfway there, and the second half of your work is just starting only  after your first deployment, because even after you've deployed there's a lot of work to feed the data back  and maybe to update the model, to keep on maintaining the model even in the face of changes to the data."
   ]
  },
  {
   "cell_type": "markdown",
   "id": "c5766d8b",
   "metadata": {},
   "source": []
  }
 ],
 "metadata": {
  "language_info": {
   "name": "python"
  }
 },
 "nbformat": 4,
 "nbformat_minor": 5
}

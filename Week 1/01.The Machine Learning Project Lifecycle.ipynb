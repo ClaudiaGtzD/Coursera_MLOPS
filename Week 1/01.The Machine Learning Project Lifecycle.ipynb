{
 "cells": [
  {
   "cell_type": "markdown",
   "id": "1a2b81f0",
   "metadata": {},
   "source": [
    "# The machine Learning Project Lifecycle\n",
    "## Steps of an ML Project\n",
    "\n",
    "1. Scoping:\n",
    "    - Define the project.\n",
    "    - Understand what I want to do\n",
    "    - Define what is X and what is Y\n",
    "2. Data:\n",
    "    - Define data an stablish baseline\n",
    "    - Label and organize data\n",
    "3. Modeling:\n",
    "    - Select and trin model\n",
    "    - Perform error analysis\n",
    "    - You could return to data to get a better model.\n",
    "4. Deployment:\n",
    "    - Deploy in production\n",
    "    - Monitor & maintain system\n",
    "        - If data changes, you may return to data step to adjust or define de data again\n",
    "        - If error increases, you may return to Modeling step to adjust the model or re-train it."
   ]
  },
  {
   "cell_type": "markdown",
   "id": "8b871c60",
   "metadata": {},
   "source": [
    "## Case study: speech recognition\n",
    "\n",
    "1. Scoping:\n",
    "    - Decide to work on speech recognition for voice search.\n",
    "    - Decide on key metrics:\n",
    "        - Accuracy\n",
    "        - Latency: How long does the system take to transcribe speech?\n",
    "        - Throughput: How many queries per second can we handle?\n",
    "    - Estimate resources and timeline.\n",
    "2. Data:\n",
    "    - Define data:\n",
    "        - Is the data labeled consistently?, for example, he puts an audio says \"Um, today's weather\" or \"Um... today's weather\" or \"Today's weather\". You need to decide which option es good for you.\n",
    "        - How much silence before/after each clip?\n",
    "        - How to perform volume normalization?\n",
    "        - Make sure you have high quality data.\n",
    "3. Modeling:\n",
    "    - ML Model (speech to transcription (X -> Y)):\n",
    "        - Code (algorithm/model)\n",
    "        - Hyperparameters\n",
    "        - Data\n",
    "    - Research/Academia: The data usually is fixed and the code and hyperparameters change, because you want to get the best performance with controllated data.\n",
    "    - Product Team"
   ]
  }
 ],
 "metadata": {
  "language_info": {
   "name": "python"
  }
 },
 "nbformat": 4,
 "nbformat_minor": 5
}
